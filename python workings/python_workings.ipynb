{
 "cells": [
  {
   "cell_type": "markdown",
   "metadata": {},
   "source": [
    "MULTIPLE ASSIGNMENTS IN PYTHON\n"
   ]
  },
  {
   "cell_type": "code",
   "execution_count": 1,
   "metadata": {},
   "outputs": [
    {
     "name": "stdout",
     "output_type": "stream",
     "text": [
      "a:  10 b: 10 c : 10\n",
      "d : sha e: ran f: 10.5\n"
     ]
    }
   ],
   "source": [
    "a =10\n",
    "a = b = c = 10\n",
    "d,e,f ='sha','ran',10.5\n",
    "print('a: ',a,'b:',b,'c :',c)\n",
    "print('d :',d,'e:',e,'f:',f)"
   ]
  },
  {
   "cell_type": "markdown",
   "metadata": {},
   "source": [
    "HANDLING OF STRINGS IN PYTHON"
   ]
  },
  {
   "cell_type": "code",
   "execution_count": 3,
   "metadata": {},
   "outputs": [
    {
     "name": "stdout",
     "output_type": "stream",
     "text": [
      "sharan2001\n",
      "sharan2001sharan2001sharan2001\n"
     ]
    }
   ],
   "source": [
    "str1,str2,num = 'sha','ran','2001'\n",
    "str = str1 + str2 + num\n",
    "print(str)\n",
    "print(str*3) "
   ]
  },
  {
   "cell_type": "markdown",
   "metadata": {},
   "source": [
    "STRING SLICING:"
   ]
  },
  {
   "cell_type": "code",
   "execution_count": 4,
   "metadata": {},
   "outputs": [
    {
     "name": "stdout",
     "output_type": "stream",
     "text": [
      "final\n",
      "n\n",
      "nal\n",
      "<class 'str'>\n"
     ]
    }
   ],
   "source": [
    "str = 'final'\n",
    "print(str)\n",
    "print(str[2])\n",
    "print(str[2:5])\n",
    "print(type(str))"
   ]
  },
  {
   "cell_type": "markdown",
   "metadata": {},
   "source": [
    "HANDLING BOOLEAN DATA TYPES IN PYTHON:"
   ]
  },
  {
   "cell_type": "code",
   "execution_count": 5,
   "metadata": {},
   "outputs": [
    {
     "name": "stdout",
     "output_type": "stream",
     "text": [
      "True\n",
      "True\n"
     ]
    }
   ],
   "source": [
    "bool = 'True'\n",
    "print(bool)\n",
    "print(7>5)\n"
   ]
  },
  {
   "cell_type": "markdown",
   "metadata": {},
   "source": [
    "FINDING DATA TYPES IN PYTHON:"
   ]
  },
  {
   "cell_type": "code",
   "execution_count": 6,
   "metadata": {},
   "outputs": [
    {
     "name": "stdout",
     "output_type": "stream",
     "text": [
      "<class 'bool'>\n",
      "<class 'list'>\n",
      "<class 'bool'>\n"
     ]
    }
   ],
   "source": [
    "type('str')\n",
    "k = False\n",
    "print(type(k))\n",
    "list = [1,2,3,4,5]\n",
    "print(type(list))\n",
    "print(type(5>4))"
   ]
  },
  {
   "cell_type": "markdown",
   "metadata": {},
   "source": [
    "TYPE CONVERSION IN PYTHON:"
   ]
  },
  {
   "cell_type": "code",
   "execution_count": 7,
   "metadata": {},
   "outputs": [
    {
     "name": "stdout",
     "output_type": "stream",
     "text": [
      "float conversion:  10.0 10.0 1.0\n",
      "int conversion:  10 10 0\n"
     ]
    }
   ],
   "source": [
    "print(\"float conversion: \",float(10),float(\"10\"),float(True))\n",
    "print(\"int conversion: \",int(10.10),int(\"10\"),int(False))"
   ]
  },
  {
   "cell_type": "markdown",
   "metadata": {},
   "source": [
    "PRINT STATEMENT IN PYTHON:"
   ]
  },
  {
   "cell_type": "code",
   "execution_count": 8,
   "metadata": {},
   "outputs": [
    {
     "name": "stdout",
     "output_type": "stream",
     "text": [
      "......PRINT STATEMENT..........\n",
      "sharan\n",
      "\n",
      "\n",
      "sha\n",
      "8i +9j45\n",
      "65\n",
      "11-3-2025\n",
      "Python-is-awesome\n"
     ]
    }
   ],
   "source": [
    "print(\"......PRINT STATEMENT..........\")\n",
    "print('sharan',end = '\\n\\n\\n')\n",
    "print('sha')\n",
    "print('8i +9',end = 'j')\n",
    "print(\"45\",sep = '$')\n",
    "print(\"65\",sep = \"$\")\n",
    "day,mont,year = 11,3,2025\n",
    "print(day,mont,year,sep ='-')\n",
    "print(\"Python\", \"is\", \"awesome\", sep=\"-\")"
   ]
  },
  {
   "cell_type": "markdown",
   "metadata": {},
   "source": [
    "INPUT FUNCTION IN PYTHON:"
   ]
  },
  {
   "cell_type": "code",
   "execution_count": null,
   "metadata": {},
   "outputs": [],
   "source": [
    "print(\"........INPUT FUNCTION.......\")\n",
    "a = input('enter a string')\n",
    "print('user input string: ',a)\n",
    "b = int(input('enter a number'))\n",
    "print('user input intger',b)\n",
    "c = float(input('enter a decimal number:'))\n",
    "print('decimal number float:',c)"
   ]
  },
  {
   "cell_type": "markdown",
   "metadata": {},
   "source": [
    "OPERATORS IN PYTHON:"
   ]
  },
  {
   "cell_type": "code",
   "execution_count": 1,
   "metadata": {},
   "outputs": [
    {
     "name": "stdout",
     "output_type": "stream",
     "text": [
      "......OPERATORS.....\n",
      "only integer:  1\n",
      "exponential : 625\n"
     ]
    }
   ],
   "source": [
    "print('......OPERATORS.....')\n",
    "a,b = 5,4\n",
    "print('only integer: ',a//b)\n",
    "print('exponential :',a**b)"
   ]
  },
  {
   "cell_type": "markdown",
   "metadata": {},
   "source": [
    "MEMEBERSHIP OPERATORS:"
   ]
  },
  {
   "cell_type": "code",
   "execution_count": 2,
   "metadata": {},
   "outputs": [
    {
     "name": "stdout",
     "output_type": "stream",
     "text": [
      " .......MEMBERSHIP OPERATORS(IN/NOT IN).....\n",
      "True\n",
      "False\n",
      "True\n"
     ]
    }
   ],
   "source": [
    "\n",
    "print(' .......MEMBERSHIP OPERATORS(IN/NOT IN).....')\n",
    "A = [2,4,6,8,10]\n",
    "print(4 in A)\n",
    "print(4 not in A)\n",
    "name = 'sharan'\n",
    "print('a' in name)\n"
   ]
  },
  {
   "cell_type": "markdown",
   "metadata": {},
   "source": [
    "CONTROL STATEMENTS AND LOOPING STATEMENTS:"
   ]
  },
  {
   "cell_type": "code",
   "execution_count": 3,
   "metadata": {},
   "outputs": [
    {
     "name": "stdout",
     "output_type": "stream",
     "text": [
      "...........PYTHON CONTROL STATEMENTS..........\n",
      "if else:\n",
      "it is an even number\n",
      "\n",
      "\n",
      "\n",
      "\n",
      "if..elif..else\n",
      "equals to 10\n"
     ]
    }
   ],
   "source": [
    "print('...........PYTHON CONTROL STATEMENTS..........',end = '\\n')\n",
    "print('if else:')\n",
    "x = 10\n",
    "if(x%2==0):\n",
    "    print('it is an even number')\n",
    "else:\n",
    "    print('it is an odd number')\n",
    "print('\\n\\n\\n')\n",
    "print('if..elif..else')\n",
    "if(x>10):\n",
    "    print('greater than 10:')\n",
    "elif(x==10):\n",
    "    print('equals to 10')\n",
    "else:\n",
    "    print('less than 10')"
   ]
  },
  {
   "cell_type": "markdown",
   "metadata": {},
   "source": [
    "WHILE LOOP:"
   ]
  },
  {
   "cell_type": "code",
   "execution_count": 4,
   "metadata": {},
   "outputs": [
    {
     "name": "stdout",
     "output_type": "stream",
     "text": [
      ".......DEMONSTRATION OF WHILE LOOP.....\n",
      "The sum of first 10 odd numbers is 55\n"
     ]
    }
   ],
   "source": [
    "print('.......DEMONSTRATION OF WHILE LOOP.....')\n",
    "sum = 0\n",
    "i = 1\n",
    "while(i <= 10):\n",
    "    sum += i\n",
    "    i += 1\n",
    "print('The sum of first 10 odd numbers is',sum)"
   ]
  },
  {
   "cell_type": "markdown",
   "metadata": {},
   "source": [
    "ITERATIONS THROUGH THE LOOPING STATEMENTS:"
   ]
  },
  {
   "cell_type": "code",
   "execution_count": 6,
   "metadata": {},
   "outputs": [
    {
     "name": "stdout",
     "output_type": "stream",
     "text": [
      ".......FOR LOOP DEMONSTRATION......\n",
      "1\n",
      "2\n",
      "3\n",
      "4\n",
      "5\n",
      "The even numbers in first 100 natural njumbers are\n",
      "2 4 6 8 10 12 14 16 18 20 22 24 26 28 30 32 34 36 38 40 42 44 46 48 50 52 54 56 58 60 62 64 66 68 70 72 74 76 78 80 82 84 86 88 90 92 94 96 98 100 \n",
      "\n",
      "s\n",
      "h\n",
      "a\n"
     ]
    }
   ],
   "source": [
    "print('.......FOR LOOP DEMONSTRATION......')\n",
    "\n",
    "list = [1,2,3,4,5]\n",
    "for i in list:\n",
    "    print(i)  \n",
    "print(\"The even numbers in first 100 natural njumbers are\")   \n",
    "for i in range (2,102,2):\n",
    "   \n",
    "    print(i,sep = ',',end =' ')\n",
    "print('\\n') \n",
    "name = 'sha'\n",
    "for i in range(0,len(name)):\n",
    "          print(name[i])\n"
   ]
  },
  {
   "cell_type": "markdown",
   "metadata": {},
   "source": [
    "PROGRAMS:\n",
    "1.PROGRAM TO ADD TWO NUMBERS"
   ]
  },
  {
   "cell_type": "code",
   "execution_count": 2,
   "metadata": {},
   "outputs": [
    {
     "name": "stdout",
     "output_type": "stream",
     "text": [
      "Sum of given two numbers is  24\n"
     ]
    }
   ],
   "source": [
    "num1 = int(input(\"enter a number \"))\n",
    "num2 = int(input('enter another number '))\n",
    "sum = num1 + num2\n",
    "print(\"Sum of given two numbers is \",sum)\n"
   ]
  },
  {
   "cell_type": "markdown",
   "metadata": {},
   "source": [
    "2.program to check whether a student cleared the exam or not"
   ]
  },
  {
   "cell_type": "code",
   "execution_count": 3,
   "metadata": {},
   "outputs": [
    {
     "name": "stdout",
     "output_type": "stream",
     "text": [
      "RESULT: PASS\n"
     ]
    }
   ],
   "source": [
    "grade = int(input('Enter the grade of the student'))\n",
    "if grade >= 60:\n",
    "    print('RESULT: PASS')\n",
    "else:\n",
    "    print('RESULT: FAIL')\n"
   ]
  },
  {
   "cell_type": "markdown",
   "metadata": {},
   "source": [
    "3.PROGRAM TO PRINT THE AVERAGE MARKS OF TEN STUDENTS"
   ]
  },
  {
   "cell_type": "code",
   "execution_count": 4,
   "metadata": {},
   "outputs": [
    {
     "name": "stdout",
     "output_type": "stream",
     "text": [
      "enter the marks of 10 students\n",
      "The average marks of 10 student is 77.8\n"
     ]
    }
   ],
   "source": [
    "total = 0\n",
    "i =1\n",
    "print('enter the marks of 10 students')\n",
    "while i<= 10:\n",
    "    marks = int(input('enter the student mark: '))\n",
    "    total = total + marks\n",
    "    i += 1\n",
    "avg = total/10\n",
    "print('The average marks of 10 student is',avg)\n"
   ]
  },
  {
   "cell_type": "markdown",
   "metadata": {},
   "source": [
    "CONTAINER DATA TYPES IN PYTHON:\n",
    "1.LIST:"
   ]
  },
  {
   "cell_type": "markdown",
   "metadata": {},
   "source": [
    "EMPTY LIST:"
   ]
  },
  {
   "cell_type": "code",
   "execution_count": 5,
   "metadata": {},
   "outputs": [
    {
     "name": "stdout",
     "output_type": "stream",
     "text": [
      "empty list: []\n"
     ]
    }
   ],
   "source": [
    "empty_list = []\n",
    "empty_list1 = list()\n",
    "print('empty list:',empty_list)"
   ]
  },
  {
   "cell_type": "markdown",
   "metadata": {},
   "source": [
    "CREATING LIST AND ITERATING THROUGH LIST ELEMENTS:"
   ]
  },
  {
   "cell_type": "code",
   "execution_count": 6,
   "metadata": {},
   "outputs": [
    {
     "name": "stdout",
     "output_type": "stream",
     "text": [
      "1 2 3 4 5 6 7 8 9 10 11 12 13 14 15 "
     ]
    }
   ],
   "source": [
    "list = [1,2,3,4,5,6,7,8,9,10,11,12,13,14,15]\n",
    "career_list = ['programming','ai engineer','content crreation']\n",
    "for i in list:\n",
    "    print(i,end = ' ')"
   ]
  },
  {
   "cell_type": "markdown",
   "metadata": {},
   "source": [
    "ACCESSING LIST ELEMENTS:"
   ]
  },
  {
   "cell_type": "code",
   "execution_count": 7,
   "metadata": {},
   "outputs": [
    {
     "name": "stdout",
     "output_type": "stream",
     "text": [
      "6\n",
      "programming\n",
      "[1, 2, 3, 4, 5, 6, 7, 8, 9, 10]\n",
      "[4, 5, 6, 7, 8, 9, 10, 11, 12, 13]\n",
      "[5, 6, 7, 8, 9, 10, 11, 12, 13, 14, 15]\n",
      "[1, 2, 3, 4, 5, 6, 7, 8, 9, 10, 11, 12, 13, 14, 15]\n",
      "[1, 3, 5, 7, 9, 11, 13, 15]\n",
      "[15, 14, 13, 12, 11]\n",
      "ai engineer\n",
      "ai engineer\n",
      "........SLICING....\n",
      "[1, 2, 3]\n",
      "[13, 14, 15]\n",
      "[1, 2, 3, 4]\n"
     ]
    }
   ],
   "source": [
    "print(list[5])\n",
    "print(career_list[0])\n",
    "print(list[:10])\n",
    "print(list[3:13])\n",
    "print(list[4:])\n",
    "print(list[:])\n",
    "print(list[0:15:2])\n",
    "print(list[-1:-6:-1])\n",
    "print(career_list[1])\n",
    "print(career_list[-2])\n",
    "print('........SLICING....')\n",
    "print(list[:3])\n",
    "print(list[12:])\n",
    "print(list[:4])\n"
   ]
  },
  {
   "cell_type": "markdown",
   "metadata": {},
   "source": [
    "LIST FUNCTIONS:\n",
    "1.APPEND()"
   ]
  },
  {
   "cell_type": "code",
   "execution_count": 8,
   "metadata": {},
   "outputs": [
    {
     "name": "stdout",
     "output_type": "stream",
     "text": [
      "[1, 2, 3, 4, 5, 6, 7, 8, 9, 10, 11, 12, 13, 14, 15]\n",
      "[1, 2, 3, 4, 5, 6, 7, 8, 9, 10, 11, 12, 13, 14, 15, ['programming', 'ai engineer', 'content crreation']]\n",
      "1\n",
      "2\n",
      "3\n",
      "4\n",
      "5\n",
      "6\n",
      "7\n",
      "8\n",
      "9\n",
      "10\n",
      "11\n",
      "12\n",
      "13\n",
      "14\n",
      "15\n",
      "['programming', 'ai engineer', 'content crreation']\n",
      "['programming', 'ai engineer', 'content crreation']\n"
     ]
    }
   ],
   "source": [
    "print(list)\n",
    "list.append(career_list)\n",
    "print(list)\n",
    "for i in list:\n",
    "    print(i)\n",
    "print(list[15])"
   ]
  },
  {
   "cell_type": "markdown",
   "metadata": {},
   "source": [
    "2.EXTEND: "
   ]
  },
  {
   "cell_type": "code",
   "execution_count": 10,
   "metadata": {},
   "outputs": [
    {
     "name": "stdout",
     "output_type": "stream",
     "text": [
      "['data science', 'machine learning', 'python', 'html', 'big data', 'statistics', 'Artificial Intelligence', 'Data Analyst']\n",
      "statistics\n"
     ]
    }
   ],
   "source": [
    "course1 = ['data science', 'machine learning', 'python', 'html', 'big data' ]\n",
    "\n",
    "course2 = ['statistics','Artificial Intelligence','Data Analyst']\n",
    "course1.extend(course2)\n",
    "print(course1)\n",
    "print(course1[5])"
   ]
  },
  {
   "cell_type": "markdown",
   "metadata": {},
   "source": [
    "3.INSERT(): INSERT THE ELEMENTS AT THE SPECIFIED INDEX OF THE LIST"
   ]
  },
  {
   "cell_type": "code",
   "execution_count": 12,
   "metadata": {},
   "outputs": [
    {
     "name": "stdout",
     "output_type": "stream",
     "text": [
      "['python developer', 'data science', 'machine learning', 'python', 'html', 'big data', 'statistics', 'Artificial Intelligence', 'Data Engineer', 'Data Engineer', 'Data Analyst']\n",
      "['python developer', 'python developer', 'data science', 'machine learning', 'python', 'html', 'big data', 'statistics', 'Artificial Intelligence', 'Data Engineer', 'Data Engineer', 'Data Analyst']\n"
     ]
    }
   ],
   "source": [
    "course1.insert(-1,'Data Engineer')\n",
    "print(course1)\n",
    "course1.insert(0,'python developer')\n",
    "print(course1)"
   ]
  },
  {
   "cell_type": "markdown",
   "metadata": {},
   "source": [
    "4.SORT(): SORT THE ELEMENTS IN INCREASING OR DECREASING ORDER"
   ]
  },
  {
   "cell_type": "code",
   "execution_count": 13,
   "metadata": {},
   "outputs": [
    {
     "name": "stdout",
     "output_type": "stream",
     "text": [
      "['Artificial Intelligence', 'Data Analyst', 'Data Engineer', 'Data Engineer', 'big data', 'data science', 'html', 'machine learning', 'python', 'python developer', 'python developer', 'statistics']\n",
      "['statistics', 'python developer', 'python developer', 'python', 'machine learning', 'html', 'data science', 'big data', 'Data Engineer', 'Data Engineer', 'Data Analyst', 'Artificial Intelligence']\n",
      "['html', 'python', 'big data', 'statistics', 'data science', 'Data Analyst', 'Data Engineer', 'Data Engineer', 'python developer', 'python developer', 'machine learning', 'Artificial Intelligence']\n"
     ]
    }
   ],
   "source": [
    "course1.sort()\n",
    "print(course1)\n",
    "course1.sort(reverse = True)\n",
    "print(course1)\n",
    "course1.sort(key = len)\n",
    "print(course1)"
   ]
  },
  {
   "cell_type": "markdown",
   "metadata": {},
   "source": [
    "5.REVERSE(): - REVERSE THE ENTIRE ORDER OF THE LIST"
   ]
  },
  {
   "cell_type": "code",
   "execution_count": 14,
   "metadata": {},
   "outputs": [
    {
     "name": "stdout",
     "output_type": "stream",
     "text": [
      "['Artificial Intelligence', 'machine learning', 'python developer', 'python developer', 'Data Engineer', 'Data Engineer', 'Data Analyst', 'data science', 'statistics', 'big data', 'python', 'html']\n",
      "['html', 'python', 'big data', 'statistics', 'data science', 'Data Analyst', 'Data Engineer', 'Data Engineer', 'python developer', 'python developer', 'machine learning', 'Artificial Intelligence']\n"
     ]
    }
   ],
   "source": [
    "course1.reverse()\n",
    "print(course1)\n",
    "course1.reverse()\n",
    "print(course1)"
   ]
  },
  {
   "cell_type": "markdown",
   "metadata": {},
   "source": [
    "DEL KEYWORD: DEL THE SPECIFIED INDEX OF LIST"
   ]
  },
  {
   "cell_type": "code",
   "execution_count": 15,
   "metadata": {},
   "outputs": [
    {
     "name": "stdout",
     "output_type": "stream",
     "text": [
      "['python', 'big data', 'statistics', 'data science', 'Data Analyst', 'Data Engineer', 'Data Engineer', 'python developer', 'python developer', 'machine learning', 'Artificial Intelligence']\n",
      "['python', 'big data', 'statistics', 'data science', 'Data Analyst', 'Data Engineer', 'Data Engineer', 'python developer', 'Artificial Intelligence']\n"
     ]
    }
   ],
   "source": [
    "del course1[0]\n",
    "print(course1)\n",
    "del course1[8:10]\n",
    "print(course1)"
   ]
  },
  {
   "cell_type": "markdown",
   "metadata": {},
   "source": [
    "REMOVE(): - REMOVES THE SPECIFIED ELEMENT"
   ]
  },
  {
   "cell_type": "code",
   "execution_count": 16,
   "metadata": {},
   "outputs": [
    {
     "name": "stdout",
     "output_type": "stream",
     "text": [
      "['python', 'big data', 'data science', 'Data Analyst', 'Data Engineer', 'Data Engineer', 'python developer', 'Artificial Intelligence']\n"
     ]
    }
   ],
   "source": [
    "course1.remove('statistics')\n",
    "print(course1)"
   ]
  },
  {
   "cell_type": "markdown",
   "metadata": {},
   "source": [
    "POP() - REMOVE AND RETURN LAST ELEMENT OF LIST"
   ]
  },
  {
   "cell_type": "code",
   "execution_count": 17,
   "metadata": {},
   "outputs": [
    {
     "name": "stdout",
     "output_type": "stream",
     "text": [
      "Artificial Intelligence\n",
      "['python', 'big data', 'data science', 'Data Analyst', 'Data Engineer', 'Data Engineer', 'python developer']\n"
     ]
    }
   ],
   "source": [
    "print(course1.pop())\n",
    "print(course1)"
   ]
  },
  {
   "cell_type": "markdown",
   "metadata": {},
   "source": [
    "+,* OPERATORS WITH LIST:"
   ]
  },
  {
   "cell_type": "code",
   "execution_count": null,
   "metadata": {},
   "outputs": [],
   "source": [
    "course = course1+course2\n",
    "print(course)\n",
    "course2*3\n",
    "print(course2*3)\n"
   ]
  },
  {
   "cell_type": "markdown",
   "metadata": {},
   "source": [
    "TUPLES:(IMMUTABLE)"
   ]
  },
  {
   "cell_type": "code",
   "execution_count": 18,
   "metadata": {},
   "outputs": [
    {
     "name": "stdout",
     "output_type": "stream",
     "text": [
      "(1, 2, 3, 4, 4, 5, 4, 7, 8, 'python', [2, 4, 4])\n",
      "3\n",
      "3\n"
     ]
    }
   ],
   "source": [
    "my_tuple =(1,2,3,4,4,5,4,7,8,'python',[2,3,4])\n",
    "my_tuple[10][1] = 4\n",
    "print(my_tuple)\n",
    "print(my_tuple.count(4))\n",
    "print(my_tuple.index(4))"
   ]
  },
  {
   "cell_type": "markdown",
   "metadata": {},
   "source": [
    "CREATING DICTIONARY AND ACCESSING ITTS ELEMENTS:"
   ]
  },
  {
   "cell_type": "code",
   "execution_count": 20,
   "metadata": {},
   "outputs": [
    {
     "name": "stdout",
     "output_type": "stream",
     "text": [
      "......DICTIONARY......\n",
      "98\n",
      "98\n",
      "{'dsa': 99, 'java': 100, 'python': 99}\n",
      "3\n",
      "{'dsa': 99, 'java': 100, 'python': 99, 'c++': 97}\n",
      "4\n"
     ]
    }
   ],
   "source": [
    "\n",
    "print('......DICTIONARY......')\n",
    "marks = { 'dsa' : 99,\n",
    "          'java' :100,\n",
    "          'python':98\n",
    "          }\n",
    "print(marks['python'])\n",
    "print(marks.get('python'))\n",
    "marks['python'] = 99\n",
    "print(marks)\n",
    "print(len(marks))\n",
    "marks['c++'] = 97\n",
    "print(marks)\n",
    "print(len(marks))\n"
   ]
  },
  {
   "cell_type": "markdown",
   "metadata": {},
   "source": [
    "DEMONSTRATING DIFFERENT FUNCTIONS IN DICTIONARIES"
   ]
  },
  {
   "cell_type": "code",
   "execution_count": 23,
   "metadata": {},
   "outputs": [
    {
     "name": "stdout",
     "output_type": "stream",
     "text": [
      "dict_items([('BMW', 949), ('Mercedes', 945), ('Ferrari', 954), ('Volkswagen', 976), ('Renault ', 889)])\n",
      "dict_keys(['BMW', 'Mercedes', 'Ferrari', 'Volkswagen', 'Renault '])\n",
      "dict_values([949, 945, 954, 976, 889])\n",
      "True\n",
      "True\n",
      "True\n",
      "False\n",
      "945\n",
      "('Renault ', 889)\n",
      "{'BMW': 949, 'Ferrari': 954, 'Volkswagen': 976}\n",
      "{'Ferrari': 954, 'Volkswagen': 976}\n",
      "{'Ferrari': 954, 'Volkswagen': 976, 'BMW': 949}\n",
      "{'Ferrari': 954, 'Volkswagen': 976, 'BMW': 949}\n",
      "{'Ferrari': 954, 'Volkswagen': 976, 'BMW': 949}\n"
     ]
    }
   ],
   "source": [
    "horsepower = {'BMW':949 , 'Mercedes':945 ,'Ferrari':954 ,'Volkswagen': 976,'Renault ':889}\n",
    "print(horsepower.items())\n",
    "print(horsepower.keys())\n",
    "print(horsepower.values())\n",
    "print('BMW' in horsepower.keys())\n",
    "print('Renault ' in horsepower)\n",
    "print(945 in horsepower.values())\n",
    "print(945 in horsepower)\n",
    "\n",
    "print(horsepower.pop('Mercedes'))\n",
    "print(horsepower.popitem())\n",
    "print(horsepower)\n",
    "del horsepower['BMW']\n",
    "print(horsepower)\n",
    "horsepower.update({'BMW':949})\n",
    "print(horsepower)\n",
    "horse = horsepower\n",
    "print(horse)\n",
    "horse1 = horsepower.copy()\n",
    "print(horse1)\n"
   ]
  },
  {
   "cell_type": "markdown",
   "metadata": {},
   "source": [
    "WORKING OF SETS:"
   ]
  },
  {
   "cell_type": "code",
   "execution_count": 24,
   "metadata": {},
   "outputs": [
    {
     "name": "stdout",
     "output_type": "stream",
     "text": [
      "{32, 33, 11, 12, 13, 21, 23, 24, 31}\n",
      "{'python', 'java full stack', 'machine learning', 'AI'}\n",
      "{'machine learning', 'python', 'neural networks', 'AI', 'java full stack'}\n",
      "{'machine learning', 'python', 'neural networks', 'AI', 'data science', 'data engineering', 'java full stack', 'data analyst'}\n",
      "True\n",
      "True\n",
      "{1, 2, 3, 4, 5, 6, 7, 8, 9, 10}\n",
      "right\n"
     ]
    }
   ],
   "source": [
    "# create a set\n",
    "age_set = {11, 12, 31, 13, 24, 32, 33, 21, 23, 12}\n",
    "print(age_set)\n",
    "course = {'machine learning','python','AI','java full stack'}\n",
    "print(course)\n",
    "course.add('neural networks')\n",
    "print(course)\n",
    "course.update(['data analyst','data science','data engineering'])\n",
    "print(course)\n",
    "print(set([2,4,6,8,10]).isdisjoint(set([1,3,5,7,9])))\n",
    "print(set([2,4]).issubset(set([2,4,6,8,10])))\n",
    "union = set([1,3,5,7,9]).union(set([2,4,6,8,10]))\n",
    "print(union)\n",
    "if 2 in union:\n",
    "    print('right')"
   ]
  }
 ],
 "metadata": {
  "kernelspec": {
   "display_name": "Python 3",
   "language": "python",
   "name": "python3"
  },
  "language_info": {
   "codemirror_mode": {
    "name": "ipython",
    "version": 3
   },
   "file_extension": ".py",
   "mimetype": "text/x-python",
   "name": "python",
   "nbconvert_exporter": "python",
   "pygments_lexer": "ipython3",
   "version": "3.12.7"
  }
 },
 "nbformat": 4,
 "nbformat_minor": 2
}
