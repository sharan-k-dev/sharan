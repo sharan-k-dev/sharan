{
 "cells": [
  {
   "cell_type": "markdown",
   "metadata": {},
   "source": [
    "CONDITIONAL STATEMENTS:"
   ]
  },
  {
   "cell_type": "code",
   "execution_count": 1,
   "metadata": {},
   "outputs": [
    {
     "name": "stdout",
     "output_type": "stream",
     "text": [
      ".....CONDITIONAL STATEMENTS.....\n",
      "greater than 50\n"
     ]
    }
   ],
   "source": [
    "print('.....CONDITIONAL STATEMENTS.....')\n",
    "num = int(input('Enter a number'))\n",
    "if(num>50):\n",
    "    print('greater than 50')\n",
    "elif(num == 50):\n",
    "    print('equals to 50')\n",
    "\n",
    "else:\n",
    "    print('less than 50')\n"
   ]
  },
  {
   "cell_type": "markdown",
   "metadata": {},
   "source": [
    "checking whether a number is positive or negative:"
   ]
  },
  {
   "cell_type": "code",
   "execution_count": 2,
   "metadata": {},
   "outputs": [
    {
     "name": "stdout",
     "output_type": "stream",
     "text": [
      "The number is positive\n"
     ]
    }
   ],
   "source": [
    "num = int(input('enter a number'))\n",
    "if(num>=0):\n",
    "    if(num==0):\n",
    "        print(\"The number is zero\")\n",
    "    else:\n",
    "        print('The number is positive')\n",
    "else:\n",
    "    print('The number is negative')\n"
   ]
  },
  {
   "cell_type": "markdown",
   "metadata": {},
   "source": [
    "checking whether a number is odd as well as greater than 20"
   ]
  },
  {
   "cell_type": "code",
   "execution_count": 3,
   "metadata": {},
   "outputs": [
    {
     "name": "stdout",
     "output_type": "stream",
     "text": [
      "the number is even\n"
     ]
    }
   ],
   "source": [
    "num = int(input('enter a number'))\n",
    "if(num%2==0):\n",
    "    print('the number is even')\n",
    "else:\n",
    "    if(num>20):\n",
    "        print('the number is odd')\n",
    "        print('the number is greater than 20')\n"
   ]
  },
  {
   "cell_type": "markdown",
   "metadata": {},
   "source": [
    "SUM OF N NATURAL NUMBERS:"
   ]
  },
  {
   "cell_type": "code",
   "execution_count": 4,
   "metadata": {},
   "outputs": [
    {
     "name": "stdout",
     "output_type": "stream",
     "text": [
      "....SUM OF N NATURAL NUMBERS.....\n",
      "the sum of first 10 natural numbers is 55\n"
     ]
    }
   ],
   "source": [
    "print('....SUM OF N NATURAL NUMBERS.....')\n",
    "\n",
    "n = int(input('Enter a number'))\n",
    "count = 1\n",
    "sum = 0\n",
    "while(count<=n):\n",
    "    sum = count + sum\n",
    "    count = count + 1\n",
    "print('the sum of first',n,'natural numbers is',sum)"
   ]
  },
  {
   "cell_type": "markdown",
   "metadata": {},
   "source": [
    "LARGEST NUMBER AMONG THE THREE NUMBERS:"
   ]
  },
  {
   "cell_type": "code",
   "execution_count": 5,
   "metadata": {},
   "outputs": [
    {
     "name": "stdout",
     "output_type": "stream",
     "text": [
      "....FINDING LARGEST NUMBER AMONG THREE NUMBERS......\n",
      "The greatest number is  12\n"
     ]
    }
   ],
   "source": [
    "print('....FINDING LARGEST NUMBER AMONG THREE NUMBERS......')\n",
    "num1 = int(input('enter the first number'))\n",
    "num2 = int(input('enter the second number'))\n",
    "num3 = int(input('enter the third number'))\n",
    "if((num1 > num2) and (num1 > num3)):\n",
    "    print('The greatest number is ',num1)\n",
    "elif((num2 > num3) and (num2>num1)):\n",
    "    print('The greatest number is ',num2)\n",
    "else:\n",
    "    print(\"The greatest number is \",num3)"
   ]
  },
  {
   "cell_type": "markdown",
   "metadata": {},
   "source": [
    "FINDING DISCOUNT AND THE DUE AMOUNT"
   ]
  },
  {
   "cell_type": "code",
   "execution_count": 6,
   "metadata": {},
   "outputs": [
    {
     "name": "stdout",
     "output_type": "stream",
     "text": [
      ".....FINDING DISCOUNT AND DUE AMOUNT......\n",
      "the discount is 3.9000000000000004\n",
      "The final due fee is 74.1\n"
     ]
    }
   ],
   "source": [
    "print('.....FINDING DISCOUNT AND DUE AMOUNT......')\n",
    "amount = int(input('Enter a selling price..'))\n",
    "if(amount>0):\n",
    "    if(amount<=5000):\n",
    "        discount = amount * 0.05\n",
    "        print('the discount is',discount)\n",
    "    elif(amount<=15000):\n",
    "        discount = amount * 0.12\n",
    "        print('The discount is',discount)\n",
    "    elif(amount<=25000):\n",
    "        discount = amount * 0.2\n",
    "        print('The discount is',discount)\n",
    "    else:\n",
    "        discount = amount * 0.3\n",
    "        print(\"the discount is\",discount)\n",
    "else:\n",
    "    print('Enter a valid amount')\n",
    "print('The final due fee is',amount - discount)\n"
   ]
  },
  {
   "cell_type": "markdown",
   "metadata": {},
   "source": [
    "FINDING THE GRADE OF THE STUDENT:"
   ]
  },
  {
   "cell_type": "code",
   "execution_count": 7,
   "metadata": {},
   "outputs": [
    {
     "name": "stdout",
     "output_type": "stream",
     "text": [
      "D grade\n"
     ]
    }
   ],
   "source": [
    "\n",
    "mark = int(input('Enter the total mark'))\n",
    "if(mark>=90):\n",
    "    print('A grade')\n",
    "elif(mark>=80):\n",
    "    print('Bgrade')\n",
    "elif(mark >= 70):\n",
    "    print('C grade')\n",
    "elif(mark >= 60):\n",
    "    print('D grade')\n",
    "elif(mark >= 50):\n",
    "    print('E grade')\n",
    "else:\n",
    "    print('FAIL')\n"
   ]
  },
  {
   "cell_type": "code",
   "execution_count": 8,
   "metadata": {},
   "outputs": [
    {
     "name": "stdout",
     "output_type": "stream",
     "text": [
      "Checking the type of variable is complex or not\n",
      "the give variable is of complex data type\n"
     ]
    }
   ],
   "source": [
    "print('Checking the type of variable is complex or not')\n",
    "var = 5+3j\n",
    "if(type(var) == complex):\n",
    "    print('the give variable is of complex data type')"
   ]
  },
  {
   "cell_type": "markdown",
   "metadata": {},
   "source": [
    "SUM OF THE LIST ELEMENTS:"
   ]
  },
  {
   "cell_type": "code",
   "execution_count": 9,
   "metadata": {},
   "outputs": [
    {
     "name": "stdout",
     "output_type": "stream",
     "text": [
      ".......SUM OF LIST ELEMENTS....\n",
      "The sum of list elements is... 2068\n"
     ]
    }
   ],
   "source": [
    "print('.......SUM OF LIST ELEMENTS....')\n",
    "sum = 0\n",
    "num_list = [66, 545, 223, 438, 224, 122, 125, 214, 111]\n",
    "for i in num_list:\n",
    "    sum = i + sum\n",
    "print('The sum of list elements is...',sum)\n"
   ]
  },
  {
   "cell_type": "markdown",
   "metadata": {},
   "source": [
    "AVERAGE OF THE LIST ELEMENTS:"
   ]
  },
  {
   "cell_type": "code",
   "execution_count": 10,
   "metadata": {},
   "outputs": [
    {
     "name": "stdout",
     "output_type": "stream",
     "text": [
      "The sum of list elements is 2068\n",
      "The average of list elements is 229.77777777777777\n"
     ]
    }
   ],
   "source": [
    "total = 0\n",
    "for i in num_list:\n",
    "    total += i\n",
    "print('The sum of list elements is',total)\n",
    "print('The average of list elements is',total/len(num_list))"
   ]
  },
  {
   "cell_type": "markdown",
   "metadata": {},
   "source": [
    "SUM OF FIRST 10 NATURAL NUMBERS:"
   ]
  },
  {
   "cell_type": "code",
   "execution_count": 11,
   "metadata": {},
   "outputs": [
    {
     "name": "stdout",
     "output_type": "stream",
     "text": [
      "The sum of 0-9 is 45\n"
     ]
    }
   ],
   "source": [
    "\n",
    "sum = 0\n",
    "for x in range(10):\n",
    "    sum += x\n",
    "print('The sum of 0-9 is',sum)"
   ]
  },
  {
   "cell_type": "markdown",
   "metadata": {},
   "source": [
    "SEARCHING AN ELEMNENT IN A LIST:"
   ]
  },
  {
   "cell_type": "code",
   "execution_count": 12,
   "metadata": {},
   "outputs": [
    {
     "name": "stdout",
     "output_type": "stream",
     "text": [
      "......SEARCHING AN ELEMENT IN A LIST.....\n",
      "131\n",
      "92\n",
      "838\n",
      "120\n",
      "920\n",
      "233\n",
      "The number  233  found in the list\n"
     ]
    }
   ],
   "source": [
    "print('......SEARCHING AN ELEMENT IN A LIST.....')\n",
    "for num in [131, 92, 838, 120, 920, 233,321, 119]:\n",
    "    print(num)\n",
    "    if(num == 233):\n",
    "        print('The number ',233,' found in the list')\n",
    "        break;\n"
   ]
  },
  {
   "cell_type": "markdown",
   "metadata": {},
   "source": [
    "FINDING THE LENGTH OF THE NUMBER:"
   ]
  },
  {
   "cell_type": "code",
   "execution_count": 13,
   "metadata": {},
   "outputs": [
    {
     "name": "stdout",
     "output_type": "stream",
     "text": [
      ".........FINDING THE LENGTH OF A NUMBER........\n",
      "the length of the given number is 3\n"
     ]
    }
   ],
   "source": [
    "print('.........FINDING THE LENGTH OF A NUMBER........')\n",
    "\n",
    "num = int(input('Enter a number'))\n",
    "length = 0\n",
    "while True:\n",
    "    num = num // 10\n",
    "    length += 1\n",
    "    if(num == 0):\n",
    "        break;\n",
    "print('the length of the given number is',length)\n",
    "    "
   ]
  },
  {
   "cell_type": "markdown",
   "metadata": {},
   "source": [
    "DEMONSTRATION OF BREAK STATEMENTS:"
   ]
  },
  {
   "cell_type": "code",
   "execution_count": 14,
   "metadata": {},
   "outputs": [
    {
     "name": "stdout",
     "output_type": "stream",
     "text": [
      ".....GETTING UNLIMITED INPUTS FROM THE USER to stop give the negative number.....\n",
      "[234, 344, 23]\n"
     ]
    }
   ],
   "source": [
    "print('.....GETTING UNLIMITED INPUTS FROM THE USER to stop give the negative number.....')\n",
    "list = []\n",
    "while True:\n",
    "\n",
    "    num = int(input('enter a number'))\n",
    "    if (num<0):\n",
    "        break;\n",
    "    list.append(num)\n",
    "print(list)\n"
   ]
  },
  {
   "cell_type": "markdown",
   "metadata": {},
   "source": [
    "DEMONSTRATION OF CONTINUE STATEMENTS:"
   ]
  },
  {
   "cell_type": "code",
   "execution_count": 15,
   "metadata": {},
   "outputs": [
    {
     "name": "stdout",
     "output_type": "stream",
     "text": [
      "....CONTINUE STATEMENT.....\n",
      "s\n",
      "h\n",
      "a\n",
      "a\n",
      "n\n"
     ]
    }
   ],
   "source": [
    "print('....CONTINUE STATEMENT.....')\n",
    "name = 'sharan'\n",
    "for x in name:\n",
    "    if(x == 'r'):\n",
    "        continue\n",
    "    else:\n",
    "        print(x)\n"
   ]
  },
  {
   "cell_type": "markdown",
   "metadata": {},
   "source": [
    "DEVELOPING SIMPLE CALCULATOR:"
   ]
  },
  {
   "cell_type": "code",
   "execution_count": 16,
   "metadata": {},
   "outputs": [
    {
     "name": "stdout",
     "output_type": "stream",
     "text": [
      "......SIMPLE CALCULATOR........\n",
      "35\n"
     ]
    }
   ],
   "source": [
    "print('......SIMPLE CALCULATOR........')\n",
    "\n",
    "num1 = int(input('Enter the number'))\n",
    "num2 = int(input('ENter the another number'))\n",
    "\n",
    "operator = input('Enter the operator (+,-,*,%): ')\n",
    "if(operator == '+'):\n",
    "    print(num1 + num2)\n",
    "elif(operator == '-'):\n",
    "    print(num1 - num2)\n",
    "elif(operator == '*'):\n",
    "    print(num1 * num2)\n",
    "elif(operator == '/'):\n",
    "    print(num1 + num2)\n",
    "elif(operator == '%'):\n",
    "    print(num1 + num2)\n",
    "else:\n",
    "    print(\"INVALID OPERATOR\")\n"
   ]
  },
  {
   "cell_type": "markdown",
   "metadata": {},
   "source": [
    "INBUILT FUNCTIONS IN PYTHON:"
   ]
  },
  {
   "cell_type": "code",
   "execution_count": null,
   "metadata": {},
   "outputs": [],
   "source": [
    "negative = -18.58\n",
    "positive = 17.67\n",
    "print(abs(negative))\n",
    "print(abs(positive))\n",
    "list = [2,3,45,6,7]\n",
    "print(sum(list))\n",
    "fruits = 'apple,bannana,orange,pine apple,grapes'\n",
    "print(len(fruits))\n",
    "fruit_list = fruits.split(',')\n",
    "print(fruit_list)\n",
    "print('The fruits are')\n",
    "for x in fruit_list:\n",
    "    print(x)"
   ]
  },
  {
   "cell_type": "markdown",
   "metadata": {},
   "source": [
    "DEONSTRATION OF USER DEFINED FUNCTIONS IN PYTHON:"
   ]
  },
  {
   "cell_type": "code",
   "execution_count": 17,
   "metadata": {},
   "outputs": [
    {
     "name": "stdout",
     "output_type": "stream",
     "text": [
      "...FUNCTIONS.....\n",
      "this is a function call \n"
     ]
    }
   ],
   "source": [
    "print('...FUNCTIONS.....')\n",
    "def fun():\n",
    "    print('this is a function call ')\n",
    "fun()\n"
   ]
  },
  {
   "cell_type": "markdown",
   "metadata": {},
   "source": [
    "AREA OF CIRCLE:"
   ]
  },
  {
   "cell_type": "code",
   "execution_count": 18,
   "metadata": {},
   "outputs": [
    {
     "name": "stdout",
     "output_type": "stream",
     "text": [
      "........AREA OF CIRCLE......\n",
      "The are of circle is:  153.86\n"
     ]
    }
   ],
   "source": [
    "print('........AREA OF CIRCLE......')\n",
    "radius = int(input('Enter the radius of the circle:'))\n",
    "def area(radius):\n",
    "    print('The are of circle is: ',3.14*radius*radius)\n",
    "\n",
    "area(radius)\n"
   ]
  },
  {
   "cell_type": "markdown",
   "metadata": {},
   "source": [
    "FINDING THE UNIQUE VALUE OF THE LIST:"
   ]
  },
  {
   "cell_type": "code",
   "execution_count": 20,
   "metadata": {},
   "outputs": [
    {
     "name": "stdout",
     "output_type": "stream",
     "text": [
      "...FINDING THE UNIQUE VALUE OF THE LIST - MY APPROACH....\n",
      "unique values are: \n",
      "32\n",
      "44\n",
      "45\n",
      "54\n",
      "87\n",
      "56\n"
     ]
    }
   ],
   "source": [
    "print('...FINDING THE UNIQUE VALUE OF THE LIST - MY APPROACH....')\n",
    "\n",
    "\n",
    "def unique(x):\n",
    "    sets = set(x)\n",
    "    print('unique values are: ')\n",
    "    for i in sets:\n",
    "        print(i)\n",
    "x = [44,45,56,44,32,54,44,56,44,87,44,56]\n",
    "\n",
    "unique(x)\n",
    "\n"
   ]
  },
  {
   "cell_type": "markdown",
   "metadata": {},
   "source": [
    "FINDING TYHE UNIQUE VALUES OF THE LIST - ALTERNATIVE"
   ]
  },
  {
   "cell_type": "code",
   "execution_count": 21,
   "metadata": {},
   "outputs": [
    {
     "name": "stdout",
     "output_type": "stream",
     "text": [
      ".....FINDING THE UNIQUE VALUES - ANOTHER APPROACH.....\n",
      "The unique numbers are  [44, 45, 56, 32, 54, 87]\n"
     ]
    }
   ],
   "source": [
    "print('.....FINDING THE UNIQUE VALUES - ANOTHER APPROACH.....')\n",
    "\n",
    "unique_list = []\n",
    "\n",
    "def unique(x):\n",
    "    for i in x:\n",
    "        if i not in unique_list:\n",
    "            unique_list.append(i)\n",
    "\n",
    "\n",
    "x = [44,45,56,44,32,54,44,56,44,87,44,56]\n",
    "unique(x)\n",
    "print('The unique numbers are ',unique_list)\n"
   ]
  },
  {
   "cell_type": "markdown",
   "metadata": {},
   "source": [
    "MULTIPLICATION TABLE:"
   ]
  },
  {
   "cell_type": "code",
   "execution_count": 24,
   "metadata": {},
   "outputs": [
    {
     "name": "stdout",
     "output_type": "stream",
     "text": [
      "......MULTIPLICATION.....\n",
      "1  *  7  =  7\n",
      "2  *  7  =  14\n",
      "3  *  7  =  21\n",
      "4  *  7  =  28\n",
      "5  *  7  =  35\n",
      "6  *  7  =  42\n",
      "7  *  7  =  49\n",
      "8  *  7  =  56\n",
      "9  *  7  =  63\n",
      "10  *  7  =  70\n"
     ]
    }
   ],
   "source": [
    "print('......MULTIPLICATION.....')\n",
    "n = int(input('Enter a number to give the multiplication table'))\n",
    "def table(n):\n",
    "    for i in range(1,11):\n",
    "        print(i,' * ',n,' = ',i*n)\n",
    "table(n)\n"
   ]
  },
  {
   "cell_type": "markdown",
   "metadata": {},
   "source": [
    "DEMONSTRATION OF TAKING MULTIPLE ARGUMENTS:"
   ]
  },
  {
   "cell_type": "code",
   "execution_count": 25,
   "metadata": {},
   "outputs": [
    {
     "name": "stdout",
     "output_type": "stream",
     "text": [
      "....TAKING MULTIPLE ARGUMENTS FROM THE USER...\n",
      "sha\n",
      "ran\n"
     ]
    }
   ],
   "source": [
    "\n",
    "print('....TAKING MULTIPLE ARGUMENTS FROM THE USER...')\n",
    "def fun(*args):\n",
    "    for parameters in args:\n",
    "        print(parameters)\n",
    "fun('sha','ran')\n"
   ]
  },
  {
   "cell_type": "markdown",
   "metadata": {},
   "source": [
    "DEMONSTRATION OF TAKING MULTIPLE KEYWORDED ARGUMENTS\n"
   ]
  },
  {
   "cell_type": "code",
   "execution_count": 26,
   "metadata": {},
   "outputs": [
    {
     "name": "stdout",
     "output_type": "stream",
     "text": [
      "....KWARGS.....\n",
      "A  ==  sharan\n",
      "B  ==  MCA\n"
     ]
    }
   ],
   "source": [
    "print('....KWARGS.....')\n",
    "\n",
    "def fun(**kwargs):\n",
    "    for a,b in kwargs.items():\n",
    "        print(a,' == ',b)\n",
    "\n",
    "fun(A='sharan',B = 'MCA')\n"
   ]
  },
  {
   "cell_type": "markdown",
   "metadata": {},
   "source": [
    "DEMONSTRATION OF LAMBDA FUNCTIONS:"
   ]
  },
  {
   "cell_type": "code",
   "execution_count": 27,
   "metadata": {},
   "outputs": [
    {
     "name": "stdout",
     "output_type": "stream",
     "text": [
      "33\n",
      ".......mMIN VALUE BY LAMBDA......\n",
      ".....CHECKING WHETHER THE TWO STRINGS ARE EQUAL OR NOT...\n",
      "True\n"
     ]
    }
   ],
   "source": [
    "min_value =(lambda x,y:x if x<y else y)\n",
    "print(min_value(33,43))\n",
    "\n",
    "print('.......mMIN VALUE BY LAMBDA......')\n",
    "print('.....CHECKING WHETHER THE TWO STRINGS ARE EQUAL OR NOT...')\n",
    "is_equal = (lambda str1,str2:True if str1 == str2 else False)\n",
    "print(is_equal('sha','sha'))"
   ]
  },
  {
   "cell_type": "markdown",
   "metadata": {},
   "source": [
    "DEMONSTRATION OF MAP FUNCTION"
   ]
  },
  {
   "cell_type": "code",
   "execution_count": 29,
   "metadata": {},
   "outputs": [
    {
     "name": "stdout",
     "output_type": "stream",
     "text": [
      "...MAP FUNCTION.......\n",
      "(1, 4, 9, 16, 25, 36)\n"
     ]
    }
   ],
   "source": [
    "print('...MAP FUNCTION.......')\n",
    "\n",
    "x = [1,2,3,4,5,6]\n",
    "\n",
    "squares = map(lambda i: i*i,x)\n",
    "print(tuple(squares))"
   ]
  },
  {
   "cell_type": "markdown",
   "metadata": {},
   "source": [
    "DEMONSTRATION OF FILTER FUNCTIONS:"
   ]
  },
  {
   "cell_type": "code",
   "execution_count": 31,
   "metadata": {},
   "outputs": [
    {
     "name": "stdout",
     "output_type": "stream",
     "text": [
      "FILTEER FUNCTION..\n",
      "(2, 4, 6, 8, 10)\n"
     ]
    }
   ],
   "source": [
    "print('FILTEER FUNCTION..')\n",
    "numbers = [1,2,3,4,5,6,7,8,9,10]\n",
    "evens = filter(lambda i:i%2 == 0,numbers)\n",
    "print(tuple(evens))\n"
   ]
  },
  {
   "cell_type": "markdown",
   "metadata": {},
   "source": [
    "REDUCE FUNCTION:"
   ]
  },
  {
   "cell_type": "code",
   "execution_count": 32,
   "metadata": {},
   "outputs": [
    {
     "name": "stdout",
     "output_type": "stream",
     "text": [
      "....REDUCE....\n",
      "720\n"
     ]
    }
   ],
   "source": [
    "from functools import reduce\n",
    "print('....REDUCE....')\n",
    "x = [1,2,3,4,5,6]\n",
    "factorial = reduce(lambda i,j:i*j,x)\n",
    "print(factorial)\n"
   ]
  },
  {
   "cell_type": "markdown",
   "metadata": {},
   "source": []
  },
  {
   "cell_type": "code",
   "execution_count": null,
   "metadata": {},
   "outputs": [],
   "source": []
  }
 ],
 "metadata": {
  "kernelspec": {
   "display_name": "Python 3",
   "language": "python",
   "name": "python3"
  },
  "language_info": {
   "codemirror_mode": {
    "name": "ipython",
    "version": 3
   },
   "file_extension": ".py",
   "mimetype": "text/x-python",
   "name": "python",
   "nbconvert_exporter": "python",
   "pygments_lexer": "ipython3",
   "version": "3.12.7"
  }
 },
 "nbformat": 4,
 "nbformat_minor": 2
}
