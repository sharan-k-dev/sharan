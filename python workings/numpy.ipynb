{
 "cells": [
  {
   "cell_type": "markdown",
   "metadata": {},
   "source": [
    "sample array using numpy\n"
   ]
  },
  {
   "cell_type": "code",
   "execution_count": 12,
   "metadata": {},
   "outputs": [
    {
     "name": "stdout",
     "output_type": "stream",
     "text": [
      "[1 3 5 7 9]\n",
      "[ 2  4  6  8 10]\n",
      "(5,)\n",
      "5\n"
     ]
    }
   ],
   "source": [
    "import numpy as np\n",
    "\n",
    "odd = [1,3,5,7,9]\n",
    "even = [2,4,6,8,10]\n",
    "odd_array = np.array(odd)\n",
    "even_array = np.array(even)\n",
    "print(odd_array)\n",
    "print(even_array)\n",
    "print(odd_array.shape)\n",
    "print(odd_array.size)\n"
   ]
  },
  {
   "cell_type": "markdown",
   "metadata": {},
   "source": [
    "compact numpy array : Finding the squares from 1 to 10"
   ]
  },
  {
   "cell_type": "code",
   "execution_count": 6,
   "metadata": {},
   "outputs": [
    {
     "name": "stdout",
     "output_type": "stream",
     "text": [
      "[  1   4   9  16  25  36  49  64  81 100]\n"
     ]
    }
   ],
   "source": [
    "squares = np.array([i * i for i in range(1,11)])\n",
    "print(squares)"
   ]
  },
  {
   "cell_type": "markdown",
   "metadata": {},
   "source": [
    "Ways to create array:\n"
   ]
  },
  {
   "cell_type": "code",
   "execution_count": 9,
   "metadata": {},
   "outputs": [
    {
     "name": "stdout",
     "output_type": "stream",
     "text": [
      "[[0. 0. 0. 0.]\n",
      " [0. 0. 0. 0.]\n",
      " [0. 0. 0. 0.]]\n",
      "[1. 1. 1. 1. 1. 1. 1. 1. 1. 1. 1. 1. 1. 1. 1. 1. 1. 1. 1. 1. 1. 1. 1. 1.\n",
      " 1. 1. 1. 1. 1. 1. 1. 1. 1. 1. 1. 1. 1. 1. 1. 1. 1. 1. 1. 1. 1. 1. 1. 1.\n",
      " 1. 1.]\n",
      "[[0.595908   0.13959596]\n",
      " [0.99932092 0.3319417 ]\n",
      " [0.08196766 0.95705841]]\n"
     ]
    }
   ],
   "source": [
    "from numpy import zeros\n",
    "from numpy import ones\n",
    "from numpy import random\n",
    "\n",
    "array1 = zeros([3,4])\n",
    "print(array1)\n",
    "array2 = ones([50])\n",
    "print(array2)\n",
    "array3 = np.random.random(size = (3,2))\n",
    "print(array3)"
   ]
  },
  {
   "cell_type": "markdown",
   "metadata": {},
   "source": [
    "RESHAPING OF ARRAY:(modifying number of rows and columns)"
   ]
  },
  {
   "cell_type": "code",
   "execution_count": 13,
   "metadata": {},
   "outputs": [
    {
     "name": "stdout",
     "output_type": "stream",
     "text": [
      "The original array:\n",
      " [[ 8  9 10]\n",
      " [11 12 13]]\n",
      "[[ 8  9]\n",
      " [10 11]\n",
      " [12 13]]\n"
     ]
    }
   ],
   "source": [
    "quant = np.array([(8,9,10),(11,12,13)])\n",
    "\n",
    "print(\"The original array:\\n\", quant)\n",
    "\n",
    "\n",
    "quantity = quant.reshape(3,2)\n",
    "print(quantity)"
   ]
  },
  {
   "cell_type": "markdown",
   "metadata": {},
   "source": [
    "INDEXING AND SLICING:\n"
   ]
  },
  {
   "cell_type": "code",
   "execution_count": 17,
   "metadata": {},
   "outputs": [
    {
     "name": "stdout",
     "output_type": "stream",
     "text": [
      "5\n",
      "9\n",
      "[[10]\n",
      " [12]]\n"
     ]
    }
   ],
   "source": [
    "print(odd_array[2])\n",
    "print(quantity[0][1])\n",
    "\n",
    "print(quantity[1:,0:1])"
   ]
  },
  {
   "cell_type": "markdown",
   "metadata": {},
   "source": [
    "OPERATIONS ON 1 D ARRAY:\n"
   ]
  },
  {
   "cell_type": "code",
   "execution_count": 20,
   "metadata": {},
   "outputs": [
    {
     "name": "stdout",
     "output_type": "stream",
     "text": [
      "array1:  [120 230 310 410 150]  length of array1 is  5\n",
      "array2:  [0 1 2 3 4]  length of the array2 is  5\n"
     ]
    }
   ],
   "source": [
    "array1 = np.array([120,230,310,410,150])\n",
    "print('array1: ',array1,' length of array1 is ',len(array1))\n",
    "\n",
    "array2 = np.arange(5);\n",
    "print('array2: ',array2,' length of the array2 is ',len(array2))"
   ]
  },
  {
   "cell_type": "markdown",
   "metadata": {},
   "source": [
    "ADDING TWO ARRAYS:"
   ]
  },
  {
   "cell_type": "code",
   "execution_count": 22,
   "metadata": {},
   "outputs": [
    {
     "name": "stdout",
     "output_type": "stream",
     "text": [
      "[120 231 312 413 154]\n"
     ]
    }
   ],
   "source": [
    "sum = array1 + array2\n",
    "print(sum)\n"
   ]
  },
  {
   "cell_type": "markdown",
   "metadata": {},
   "source": [
    "Numpy arrays with comoparison expressions:\n"
   ]
  },
  {
   "cell_type": "code",
   "execution_count": 24,
   "metadata": {},
   "outputs": [
    {
     "name": "stdout",
     "output_type": "stream",
     "text": [
      "even numbers are  [[False  True False  True False  True False  True False  True]]\n"
     ]
    },
    {
     "data": {
      "text/plain": [
       "array([ 2,  4,  6,  8, 10])"
      ]
     },
     "execution_count": 24,
     "metadata": {},
     "output_type": "execute_result"
    }
   ],
   "source": [
    "numbers = np.array([range(1,11)])\n",
    "even = numbers%2 == 0\n",
    "print('even numbers are ',even)\n",
    "numbers[even]"
   ]
  },
  {
   "cell_type": "markdown",
   "metadata": {},
   "source": [
    "OPERATIONS ON 2D ARRAY:"
   ]
  },
  {
   "cell_type": "code",
   "execution_count": 31,
   "metadata": {},
   "outputs": [
    {
     "name": "stdout",
     "output_type": "stream",
     "text": [
      "[[56 23 87]\n",
      " [45 37 29]]\n",
      "[[45 83 27]\n",
      " [37 27 84]]\n",
      "[[112  46 174]\n",
      " [ 90  74  58]]\n",
      "[[48 86 30]\n",
      " [40 30 87]]\n",
      "[[160 132 204]\n",
      " [130 104 145]]\n",
      "multiplication of resultant arrays : [[5376 3956 5220]\n",
      " [3600 2220 5046]]\n"
     ]
    }
   ],
   "source": [
    "array_1 = np.array([[56,23,87],[45,37,29]])\n",
    "array_2 = np.array([[45,83,27],[37,27,84]])\n",
    "print(array_1)\n",
    "print(array_2)\n",
    "res_array_1 = 2*array_1\n",
    "res_array_2 = 3+ array_2 \n",
    "print(res_array_1)\n",
    "print(res_array_2)\n",
    "\n",
    "res_sum = res_array_1 + res_array_2\n",
    "print(res_sum)\n",
    "\n",
    "\n",
    "print('multiplication of resultant arrays :',res_array_1 * res_array_2)"
   ]
  },
  {
   "cell_type": "markdown",
   "metadata": {},
   "source": [
    "MATRIX MUKLTIPLIACTION AND DOT PRODUCT"
   ]
  },
  {
   "cell_type": "code",
   "execution_count": 41,
   "metadata": {},
   "outputs": [
    {
     "name": "stdout",
     "output_type": "stream",
     "text": [
      "[[ 8  9]\n",
      " [28 17]]\n",
      "[[29 10]\n",
      " [28 17]]\n",
      "The matrix multiplication of two rfesultant array is  [[ 484  233]\n",
      " [1288  569]]\n"
     ]
    }
   ],
   "source": [
    "array1 = np.array([[8,9],[28,17]])\n",
    "array2 = np.array([[29,10],[28,17]])\n",
    "print(array1)\n",
    "print(array2)\n",
    "\n",
    "print('The matrix multiplication of two rfesultant array is ',array1 @ array2)"
   ]
  },
  {
   "cell_type": "markdown",
   "metadata": {},
   "source": [
    "ARITHMETIC FUNCTIONS ON ARRAY:"
   ]
  },
  {
   "cell_type": "code",
   "execution_count": 45,
   "metadata": {},
   "outputs": [
    {
     "name": "stdout",
     "output_type": "stream",
     "text": [
      "sum:  26\n",
      "minimum_price 2\n",
      "powered : [125 343 512   8  64]\n"
     ]
    }
   ],
   "source": [
    "price =  np.array([5,7,8,2,4])\n",
    "summed_price = np.sum(price)\n",
    "print('sum: ',summed_price)\n",
    "\n",
    "print('minimum_price',np.min(price))\n",
    "\n",
    "print('powered :',np.power(price,3))\n"
   ]
  },
  {
   "cell_type": "markdown",
   "metadata": {},
   "source": [
    "CONCATENATION OF 1D AND 2D ARRAYS:"
   ]
  },
  {
   "cell_type": "code",
   "execution_count": 49,
   "metadata": {},
   "outputs": [
    {
     "name": "stdout",
     "output_type": "stream",
     "text": [
      "[ 1  3  5  7  9  2  4  6  8 10]\n"
     ]
    }
   ],
   "source": [
    "odd = np.array(range(1,10,2))\n",
    "even = np.array(range(2,11,2))\n",
    "numbers = np.concatenate([odd,even])\n",
    "print(numbers)"
   ]
  },
  {
   "cell_type": "markdown",
   "metadata": {},
   "source": [
    "STACKING OF ARRAYS:"
   ]
  },
  {
   "cell_type": "code",
   "execution_count": null,
   "metadata": {},
   "outputs": [
    {
     "name": "stdout",
     "output_type": "stream",
     "text": [
      "[[[ 1  2  3]\n",
      "  [ 7  8  9]]\n",
      "\n",
      " [[ 4  5  6]\n",
      "  [10 11 12]]]\n",
      "[[ 1  2  3  7  8  9]\n",
      " [ 4  5  6 10 11 12]]\n",
      "[[[ 1  7]\n",
      "  [ 2  8]\n",
      "  [ 3  9]]\n",
      "\n",
      " [[ 4 10]\n",
      "  [ 5 11]\n",
      "  [ 6 12]]]\n",
      "[[ 1  2  3]\n",
      " [ 4  5  6]\n",
      " [ 7  8  9]\n",
      " [10 11 12]]\n",
      "2D MATRIX USING BLOCKS\n",
      "[[[4]\n",
      "  [5]]\n",
      "\n",
      " [[6]\n",
      "  [7]]]\n"
     ]
    }
   ],
   "source": [
    "a1 = np.array([[1,2,3],[4,5,6]])\n",
    "a2 = np.array([[7,8,9],[10,11,12]])\n",
    "\n",
    "print('...stacking....')\n",
    "\n",
    "res = np.stack((a1,a2),axis =1)\n",
    "print(res)\n",
    "\n",
    "print('......hstack....')\n",
    "res = np.hstack((a1,a2))\n",
    "print(res)\n",
    "\n",
    "print('......dstack......')\n",
    "\n",
    "res = np.dstack((a1,a2))\n",
    "print(res)\n",
    "\n",
    "print('.....vstack.....')\n",
    "res = np.vstack((a1,a2))\n",
    "print(res)\n",
    "\n",
    "\n",
    "print('2D MATRIX USING BLOCKS')\n",
    "\n",
    "\n",
    "m1 = np.array([4])\n",
    "m2 = np.array([5])\n",
    "m3 = np.array([6])\n",
    "m4 = np.array([7])\n",
    "\n",
    "array = np.array([[m1,m2],[m3,m4]])\n",
    "\n",
    "print(array)"
   ]
  },
  {
   "cell_type": "markdown",
   "metadata": {},
   "source": [
    "SPLITTING OF ARRAY:\n"
   ]
  },
  {
   "cell_type": "code",
   "execution_count": 78,
   "metadata": {},
   "outputs": [
    {
     "name": "stdout",
     "output_type": "stream",
     "text": [
      "[array([0, 1, 2, 3, 4]), array([5, 6, 7, 8, 9])]\n",
      "[array([0, 1, 2, 3, 4, 5]), array([6]), array([7, 8, 9])]\n",
      "......RESHAPING......\n",
      "....reshaped array...\n",
      "[[0 1 2 3 4]\n",
      " [5 6 7 8 9]]\n",
      "....splitting array into row wise..\n",
      "[array([[0, 1, 2, 3, 4]]), array([[5, 6, 7, 8, 9]])]\n"
     ]
    }
   ],
   "source": [
    "array1 = np.arange(10)\n",
    "print(np.split(array1, 2))\n",
    "print(np.split(array1,[6,7]))\n",
    "\n",
    "\n",
    "print('......RESHAPING......')\n",
    "\n",
    "\n",
    "array2  = array1.reshape(2,5)\n",
    "\n",
    "print('....reshaped array...')\n",
    "print(array2)\n",
    "print('....splitting array into row wise..')\n",
    "\n",
    "print(np.vsplit(array2,2))\n",
    "\n",
    "\n",
    "\n",
    "\n"
   ]
  }
 ],
 "metadata": {
  "kernelspec": {
   "display_name": "Python 3",
   "language": "python",
   "name": "python3"
  },
  "language_info": {
   "codemirror_mode": {
    "name": "ipython",
    "version": 3
   },
   "file_extension": ".py",
   "mimetype": "text/x-python",
   "name": "python",
   "nbconvert_exporter": "python",
   "pygments_lexer": "ipython3",
   "version": "3.12.7"
  }
 },
 "nbformat": 4,
 "nbformat_minor": 2
}
